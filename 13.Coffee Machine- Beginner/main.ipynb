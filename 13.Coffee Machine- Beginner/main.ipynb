{
 "cells": [
  {
   "cell_type": "code",
   "execution_count": 1,
   "id": "a4b73ab2-87e2-46e2-9797-8ab5c4f0219b",
   "metadata": {},
   "outputs": [
    {
     "name": "stdin",
     "output_type": "stream",
     "text": [
      "What you would like?(espresso/latte/cappuccino: espresso\n",
      "How many quarters? $ 4\n",
      "How many dimes? $ 4\n",
      "How many nickles? $ 4\n",
      "How many pennies? $ 4\n"
     ]
    },
    {
     "name": "stdout",
     "output_type": "stream",
     "text": [
      "Here is $14.5 in change.\n",
      "Here is your espresso ☕️. Enjoy!\n"
     ]
    },
    {
     "name": "stdin",
     "output_type": "stream",
     "text": [
      "What you would like?(espresso/latte/cappuccino: latte\n",
      "How many quarters? $ 4\n",
      "How many dimes? $ 4\n",
      "How many nickles? $ 4\n",
      "How many pennies? $ 4\n"
     ]
    },
    {
     "name": "stdout",
     "output_type": "stream",
     "text": [
      "Here is $13.5 in change.\n",
      "Here is your latte ☕️. Enjoy!\n"
     ]
    },
    {
     "name": "stdin",
     "output_type": "stream",
     "text": [
      "What you would like?(espresso/latte/cappuccino: cappuccino\n"
     ]
    },
    {
     "name": "stdout",
     "output_type": "stream",
     "text": [
      "Sorry there is not enoughtwater\n"
     ]
    },
    {
     "name": "stdin",
     "output_type": "stream",
     "text": [
      "What you would like?(espresso/latte/cappuccino: report\n"
     ]
    },
    {
     "name": "stdout",
     "output_type": "stream",
     "text": [
      "Water: 50ml\n",
      "Milk: 50ml\n",
      "Coffee: 58g\n",
      "Money: $4.0\n"
     ]
    },
    {
     "name": "stdin",
     "output_type": "stream",
     "text": [
      "What you would like?(espresso/latte/cappuccino: off\n"
     ]
    }
   ],
   "source": [
    "MENU = {\n",
    "    \"espresso\": {\n",
    "        \"ingredients\": {\n",
    "            \"water\": 50,\n",
    "            \"coffee\": 18,\n",
    "        },\n",
    "        \"cost\": 1.5,\n",
    "    },\n",
    "    \"latte\": {\n",
    "        \"ingredients\": {\n",
    "            \"water\": 200,\n",
    "            \"milk\": 150,\n",
    "            \"coffee\": 24,\n",
    "        },\n",
    "        \"cost\": 2.5,\n",
    "    },\n",
    "    \"cappuccino\": {\n",
    "        \"ingredients\": {\n",
    "            \"water\": 250,\n",
    "            \"milk\": 100,\n",
    "            \"coffee\": 24,\n",
    "        },\n",
    "        \"cost\": 3.0,\n",
    "    }\n",
    "}\n",
    "\n",
    "resources = {\n",
    "    \"water\": 300,\n",
    "    \"milk\": 200,\n",
    "    \"coffee\": 100,\n",
    "}\n",
    "\n",
    "profit=0\n",
    "def is_resource_sufficient(ordered_ingredients):\n",
    "    for item in ordered_ingredients:\n",
    "        if ordered_ingredients[item] >=resources[item]:\n",
    "            print(f\"Sorry there is not enought{item}\")\n",
    "            return False\n",
    "    return True\n",
    "\n",
    "\n",
    "def process_coins():\n",
    "    total=int(input(\"How many quarters? $\"))\n",
    "    total+=int(input(\"How many dimes? $\"))\n",
    "    total+=int(input(\"How many nickles? $\"))\n",
    "    total+=int(input(\"How many pennies? $\"))\n",
    "    return total\n",
    "\n",
    "\n",
    "def is_transaction_successful(money_received, drink_cost):\n",
    "    if money_received >= drink_cost:\n",
    "        change = round(money_received - drink_cost, 2)\n",
    "        print(f\"Here is ${change} in change.\")\n",
    "        global profit\n",
    "        profit += drink_cost\n",
    "        return True\n",
    "\n",
    "\n",
    "def make_coffee(drink_name, order_ingredients):\n",
    "    for item in order_ingredients:\n",
    "        resources[item] -= order_ingredients[item]\n",
    "    print(f\"Here is your {drink_name} ☕️. Enjoy!\")      \n",
    "\n",
    "\n",
    "while True:\n",
    "    choice=input(\"What you would like?(espresso/latte/cappuccino:\")\n",
    "    if choice=='off':\n",
    "        break\n",
    "    elif choice=='report':\n",
    "        print(f\"Water: {resources['water']}ml\")\n",
    "        print(f\"Milk: {resources['milk']}ml\")\n",
    "        print(f\"Coffee: {resources['coffee']}g\")\n",
    "        print(f\"Money: ${profit}\")\n",
    "        \n",
    "    else:\n",
    "        drink=MENU[choice]\n",
    "        if is_resource_sufficient(drink['ingredients']):\n",
    "            payment=process_coins()\n",
    "            if is_transaction_successful(payment,drink['cost']):\n",
    "                make_coffee(choice,drink['ingredients'])\n",
    "            "
   ]
  }
 ],
 "metadata": {
  "kernelspec": {
   "display_name": "Python 3.11 (XPython)",
   "language": "python",
   "name": "xpython"
  },
  "language_info": {
   "file_extension": ".py",
   "mimetype": "text/x-python",
   "name": "python",
   "version": "3.11.6"
  }
 },
 "nbformat": 4,
 "nbformat_minor": 5
}
