{
 "cells": [
  {
   "cell_type": "code",
   "execution_count": 1,
   "id": "357f55ff",
   "metadata": {},
   "outputs": [
    {
     "name": "stdout",
     "output_type": "stream",
     "text": [
      "Welcome to the tip calculator.\n"
     ]
    },
    {
     "name": "stdin",
     "output_type": "stream",
     "text": [
      "What was the total bill? $ 124.56\n",
      "What percentage tip would you like to give? 10,12 or 15?  12\n",
      "How many people to split the bill? 7\n"
     ]
    },
    {
     "name": "stdout",
     "output_type": "stream",
     "text": [
      "Each person should pay: $ 19.93\n"
     ]
    }
   ],
   "source": [
    "print(\"Welcome to the tip calculator.\")\n",
    "#Take total bill  from the user as input\n",
    "bill=float(input(\"What was the total bill? $\"))\n",
    "\n",
    "#Take percentage tip they would give as a input\n",
    "tip=int(input(\"What percentage tip would you like to give? 10,12 or 15? \"))\n",
    "\n",
    "#Number of persons \n",
    "person=int(input(\"How many people to split the bill?\")) \n",
    "\n",
    "#Calculate bill with tip\n",
    "bill_with_tip=tip/100*bill+bill\n",
    "\n",
    "#Bill per head including tip\n",
    "total=round(bill_with_tip/person,2)\n",
    "\n",
    "#Print the bill\n",
    "print(f\"Each person should pay: $\",total)\n",
    "        "
   ]
  }
 ],
 "metadata": {
  "kernelspec": {
   "display_name": "Python 3 (ipykernel)",
   "language": "python",
   "name": "python3"
  },
  "language_info": {
   "codemirror_mode": {
    "name": "ipython",
    "version": 3
   },
   "file_extension": ".py",
   "mimetype": "text/x-python",
   "name": "python",
   "nbconvert_exporter": "python",
   "pygments_lexer": "ipython3",
   "version": "3.10.10"
  },
  "varInspector": {
   "cols": {
    "lenName": 16,
    "lenType": 16,
    "lenVar": 40
   },
   "kernels_config": {
    "python": {
     "delete_cmd_postfix": "",
     "delete_cmd_prefix": "del ",
     "library": "var_list.py",
     "varRefreshCmd": "print(var_dic_list())"
    },
    "r": {
     "delete_cmd_postfix": ") ",
     "delete_cmd_prefix": "rm(",
     "library": "var_list.r",
     "varRefreshCmd": "cat(var_dic_list()) "
    }
   },
   "types_to_exclude": [
    "module",
    "function",
    "builtin_function_or_method",
    "instance",
    "_Feature"
   ],
   "window_display": false
  }
 },
 "nbformat": 4,
 "nbformat_minor": 5
}
