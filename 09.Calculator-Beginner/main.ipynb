{
 "cells": [
  {
   "cell_type": "code",
   "execution_count": null,
   "id": "bd8fd960-39d6-46a9-9215-655eb2e137a5",
   "metadata": {
    "editable": true,
    "slideshow": {
     "slide_type": ""
    },
    "tags": []
   },
   "outputs": [
    {
     "name": "stdout",
     "output_type": "stream",
     "text": [
      "\n",
      "\n",
      " _____________________\n",
      "|  _________________  |\n",
      "| | Pythonista   0. | |  .----------------.  .----------------.  .----------------.  .----------------. \n",
      "| |_________________| | | .--------------. || .--------------. || .--------------. || .--------------. |\n",
      "|  ___ ___ ___   ___  | | |     ______   | || |      __      | || |   _____      | || |     ______   | |\n",
      "| | 7 | 8 | 9 | | + | | | |   .' ___  |  | || |     /  \\     | || |  |_   _|     | || |   .' ___  |  | |\n",
      "| |___|___|___| |___| | | |  / .'   \\_|  | || |    / /\\ \\    | || |    | |       | || |  / .'   \\_|  | |\n",
      "| | 4 | 5 | 6 | | - | | | |  | |         | || |   / ____ \\   | || |    | |   _   | || |  | |         | |\n",
      "| |___|___|___| |___| | | |  \\ `.___.'\\  | || | _/ /    \\ \\_ | || |   _| |__/ |  | || |  \\ `.___.'\\  | |\n",
      "| | 1 | 2 | 3 | | x | | | |   `._____.'  | || ||____|  |____|| || |  |________|  | || |   `._____.'  | |\n",
      "| |___|___|___| |___| | | |              | || |              | || |              | || |              | |\n",
      "| | . | 0 | = | | / | | | '--------------' || '--------------' || '--------------' || '--------------' |\n",
      "| |___|___|___| |___| |  '----------------'  '----------------'  '----------------'  '----------------' \n",
      "|_____________________|\n",
      "\n"
     ]
    }
   ],
   "source": [
    "import import_ipynb   #required to import ipynb file as module\n",
    "import art\n",
    "from IPython.display import clear_output   #Required to use clear screen function \n",
    "\n",
    "#Creating operation functions\n",
    "def add(n1,n2):\n",
    "    return n1+n2\n",
    "def subtract(n1,n2):\n",
    "    return n1-n2\n",
    "def multiply(n1,n2):\n",
    "    return n1*n2\n",
    "def divide(n1,n2):\n",
    "    return n1/n2\n",
    "\n",
    "#Creating calculator function\n",
    "def calculator():\n",
    "    print(art.logo)\n",
    "\n",
    "    num1=float(input(\"Enter a number\"))     #First Number\n",
    "    \n",
    "    while True:  \n",
    "        print('''+\n",
    "-\n",
    "*\n",
    "/''')\n",
    "        choice=input(\"Choose an operation\")          #Operation you wanna do on numbers  \n",
    "        num2=float(input(\"Whats the next number\"))     #Second Number\n",
    "        \n",
    "        operator={\"+\":add,\"-\":subtract,\"*\":multiply,\"/\":divide} #Dictionary of operator as key and function as value.\n",
    "        answer=operator[choice](num1,num2)   #Calling function\n",
    "        \n",
    "        choice2=input(f\"Type 'y' to continue calculating with {answer} else type 'n'\").lower()\n",
    "        if choice2=='y':   \n",
    "            num1=answer\n",
    "        else:\n",
    "            clear_output(wait=True)\n",
    "            print()\n",
    "            calculator()\n",
    "            \n",
    "calculator()       #Calling calculator function\n"
   ]
  }
 ],
 "metadata": {
  "kernelspec": {
   "display_name": "Python 3 (ipykernel)",
   "language": "python",
   "name": "python3"
  },
  "language_info": {
   "codemirror_mode": {
    "name": "ipython",
    "version": 3
   },
   "file_extension": ".py",
   "mimetype": "text/x-python",
   "name": "python",
   "nbconvert_exporter": "python",
   "pygments_lexer": "ipython3",
   "version": "3.10.10"
  }
 },
 "nbformat": 4,
 "nbformat_minor": 5
}
