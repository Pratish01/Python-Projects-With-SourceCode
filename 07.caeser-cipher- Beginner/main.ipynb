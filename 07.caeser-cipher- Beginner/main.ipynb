{
 "cells": [
  {
   "cell_type": "code",
   "execution_count": 1,
   "id": "92c4e8cf-20b5-4582-9376-fbbe8d5afe69",
   "metadata": {},
   "outputs": [
    {
     "name": "stdout",
     "output_type": "stream",
     "text": [
      "importing Jupyter notebook from art_01.ipynb\n",
      "           \n",
      " ,adPPYba, ,adPPYYba,  ,adPPYba, ,adPPYba, ,adPPYYba, 8b,dPPYba,  \n",
      "a8\"     \"\" \"\"     `Y8 a8P_____88 I8[    \"\" \"\"     `Y8 88P'   \"Y8  \n",
      "8b         ,adPPPPP88 8PP\"  `\"Y8ba,  ,adPPPPP88 88          \n",
      "\"8a,   ,aa 88,    ,88 \"8b,   ,aa aa    ]8I 88,    ,88 88          \n",
      " `\"Ybbd8\"' `\"8bbdP\"Y8  `\"Ybbd8\"' `\"YbbdP\"' `\"8bbdP\"Y8 88   \n",
      "            88             88                                 \n",
      "           \"\"             88                                 \n",
      "                          88                                 \n",
      " ,adPPYba, 88 8b,dPPYba,  88,dPPYba,   ,adPPYba, 8b,dPPYba,  \n",
      "a8\"     \"\" 88 88P'    \"8a 88P'    \"8a a8P_____88 88P'   \"Y8  \n",
      "8b         88 88       d8 88       88 8PP\" 88          \n",
      "\"8a,   ,aa 88 88b,   ,a8\" 88       88 \"8b,   ,aa 88          \n",
      " `\"Ybbd8\"' 88 88`YbbdP\"'  88       88  `\"Ybbd8\"' 88          \n",
      "              88                                             \n",
      "              88           \n",
      "\n"
     ]
    },
    {
     "name": "stdin",
     "output_type": "stream",
     "text": [
      "Type 'encode' to encrypt,type 'decode' to decrypt:\n",
      "  encode\n",
      "Enter the message:\n",
      " hello world\n",
      "Enter the number of shifts:\n",
      " 5\n"
     ]
    },
    {
     "name": "stdout",
     "output_type": "stream",
     "text": [
      "Here's the encoded result:mjqqt btwqi\n"
     ]
    },
    {
     "name": "stdin",
     "output_type": "stream",
     "text": [
      "Type 'yes' if you want to continue otherwise type 'no'\n",
      " no\n"
     ]
    },
    {
     "name": "stdout",
     "output_type": "stream",
     "text": [
      "Goooooood Bye\n"
     ]
    }
   ],
   "source": [
    "import import_ipynb     #Module required to import ipynb file as module\n",
    "import art_01           #Importing art_01.ipynb as module\n",
    "print(art_01.logo)\n",
    "alphabet = ['a', 'b', 'c', 'd', 'e', 'f', 'g', 'h', 'i', 'j', 'k', \n",
    "            'l', 'm', 'n', 'o', 'p', 'q', 'r', 's', 't', 'u', 'v', 'w', 'x', 'y', 'z',\n",
    "            'a', 'b', 'c', 'd', 'e', 'f', 'g', 'h', 'i', 'j', 'k', \n",
    "            'l', 'm', 'n', 'o', 'p', 'q', 'r', 's', 't', 'u', 'v', 'w', 'x', 'y', 'z']\n",
    "while True:\n",
    "    direction=input(\"Type 'encode' to encrypt,type 'decode' to decrypt:\\n \") \n",
    "    text=input(\"Enter the message:\\n\").lower()         #Message to convert according to user choice\n",
    "    shift=int(input(\"Enter the number of shifts:\\n\"))  \n",
    "    shift=shift%26           #used to handle error if user gives more shifts\n",
    "    \n",
    "    def ceaser(start_text,shift_values,cipher_direction):  #Creating ceaser function\n",
    "        end_text=''                      #Empty string\n",
    "        if cipher_direction==\"decode\":   \n",
    "            shift_values*=-1\n",
    "        for char in start_text:\n",
    "            if char in alphabet:\n",
    "                position=alphabet.index(char)+shift_values     #Shifts the index number\n",
    "                end_text+=alphabet[position]                   #Appending encoded/decoded text to end_text\n",
    "            else:\n",
    "                end_text+=char                                 #If char is not a letter\n",
    "        print(f\"Here's the {direction}d result:{end_text}\")     \n",
    "    \n",
    "    ceaser(start_text=text,shift_values=shift,cipher_direction=direction)          #Function calling\n",
    "    check=input(\"Type 'yes' if you want to continue otherwise type 'no'\\n\").lower()  \n",
    "    \n",
    "    if check=='no':\n",
    "        print(\"Goooooood Bye\")\n",
    "        break\n",
    "        \n"
   ]
  }
 ],
 "metadata": {
  "kernelspec": {
   "display_name": "Python 3 (ipykernel)",
   "language": "python",
   "name": "python3"
  },
  "language_info": {
   "codemirror_mode": {
    "name": "ipython",
    "version": 3
   },
   "file_extension": ".py",
   "mimetype": "text/x-python",
   "name": "python",
   "nbconvert_exporter": "python",
   "pygments_lexer": "ipython3",
   "version": "3.10.10"
  }
 },
 "nbformat": 4,
 "nbformat_minor": 5
}
