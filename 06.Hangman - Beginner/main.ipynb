{
 "cells": [
  {
   "cell_type": "code",
   "execution_count": 1,
   "id": "e6a25440-e093-4a2d-bde6-3d41956df951",
   "metadata": {},
   "outputs": [
    {
     "name": "stdout",
     "output_type": "stream",
     "text": [
      "importing Jupyter notebook from hangman_words.ipynb\n",
      "importing Jupyter notebook from hangman_art.ipynb\n",
      " \n",
      " _                                             \n",
      "| |                                            \n",
      "| |__   __ _ _ __   __ _ _ __ ___   __ _ _ __  \n",
      "| '_ \\ / _` | '_ \\ / _` | '_ ` _ \\ / _` | '_ \\ \n",
      "| | | | (_| | | | | (_| | | | | | | (_| | | | |\n",
      "|_| |_|\\__,_|_| |_|\\__, |_| |_| |_|\\__,_|_| |_|\n",
      "                    __/ |                      \n",
      "                   |___/    \n"
     ]
    },
    {
     "name": "stdin",
     "output_type": "stream",
     "text": [
      "Guess a letter a\n"
     ]
    },
    {
     "name": "stdout",
     "output_type": "stream",
     "text": [
      "['_', 'a', '_', '_', '_', '_', '_', '_']\n"
     ]
    },
    {
     "name": "stdin",
     "output_type": "stream",
     "text": [
      "Guess a letter t\n"
     ]
    },
    {
     "name": "stdout",
     "output_type": "stream",
     "text": [
      "You guessed a letter that is not in the word\n",
      "\n",
      "  +---+\n",
      "  |   |\n",
      "  O   |\n",
      "      |\n",
      "      |\n",
      "      |\n",
      "=========\n",
      "\n",
      "['_', 'a', '_', '_', '_', '_', '_', '_']\n"
     ]
    },
    {
     "name": "stdin",
     "output_type": "stream",
     "text": [
      "Guess a letter n\n"
     ]
    },
    {
     "name": "stdout",
     "output_type": "stream",
     "text": [
      "You guessed a letter that is not in the word\n",
      "\n",
      "  +---+\n",
      "  |   |\n",
      "  O   |\n",
      "  |   |\n",
      "      |\n",
      "      |\n",
      "=========\n",
      "\n",
      "['_', 'a', '_', '_', '_', '_', '_', '_']\n"
     ]
    },
    {
     "name": "stdin",
     "output_type": "stream",
     "text": [
      "Guess a letter d\n"
     ]
    },
    {
     "name": "stdout",
     "output_type": "stream",
     "text": [
      "['d', 'a', '_', '_', '_', '_', '_', '_']\n"
     ]
    },
    {
     "name": "stdin",
     "output_type": "stream",
     "text": [
      "Guess a letter n\n"
     ]
    },
    {
     "name": "stdout",
     "output_type": "stream",
     "text": [
      "You guessed a letter that is not in the word\n",
      "\n",
      "  +---+\n",
      "  |   |\n",
      "  O   |\n",
      " /|   |\n",
      "      |\n",
      "      |\n",
      "=========\n",
      "['d', 'a', '_', '_', '_', '_', '_', '_']\n"
     ]
    },
    {
     "name": "stdin",
     "output_type": "stream",
     "text": [
      "Guess a letter i\n"
     ]
    },
    {
     "name": "stdout",
     "output_type": "stream",
     "text": [
      "['d', 'a', 'i', '_', '_', 'i', '_', 'i']\n"
     ]
    },
    {
     "name": "stdin",
     "output_type": "stream",
     "text": [
      "Guess a letter s\n"
     ]
    },
    {
     "name": "stdout",
     "output_type": "stream",
     "text": [
      "You guessed a letter that is not in the word\n",
      "\n",
      "  +---+\n",
      "  |   |\n",
      "  O   |\n",
      " /|\\  |\n",
      "      |\n",
      "      |\n",
      "=========\n",
      "\n",
      "['d', 'a', 'i', '_', '_', 'i', '_', 'i']\n"
     ]
    },
    {
     "name": "stdin",
     "output_type": "stream",
     "text": [
      "Guess a letter q\n"
     ]
    },
    {
     "name": "stdout",
     "output_type": "stream",
     "text": [
      "['d', 'a', 'i', 'q', '_', 'i', '_', 'i']\n"
     ]
    },
    {
     "name": "stdin",
     "output_type": "stream",
     "text": [
      "Guess a letter u\n"
     ]
    },
    {
     "name": "stdout",
     "output_type": "stream",
     "text": [
      "['d', 'a', 'i', 'q', 'u', 'i', '_', 'i']\n"
     ]
    },
    {
     "name": "stdin",
     "output_type": "stream",
     "text": [
      "Guess a letter s\n"
     ]
    },
    {
     "name": "stdout",
     "output_type": "stream",
     "text": [
      "You guessed a letter that is not in the word\n",
      "\n",
      "  +---+\n",
      "  |   |\n",
      "  O   |\n",
      " /|\\  |\n",
      " /    |\n",
      "      |\n",
      "=========\n",
      "\n",
      "['d', 'a', 'i', 'q', 'u', 'i', '_', 'i']\n"
     ]
    },
    {
     "name": "stdin",
     "output_type": "stream",
     "text": [
      "Guess a letter r\n"
     ]
    },
    {
     "name": "stdout",
     "output_type": "stream",
     "text": [
      "['d', 'a', 'i', 'q', 'u', 'i', 'r', 'i']\n",
      "You won\n"
     ]
    }
   ],
   "source": [
    "import random\n",
    "import import_ipynb       #This is a module required to import ipynb file as module\n",
    "import hangman_words      #Importing hangman_words.ipynb file\n",
    "import hangman_art        #Importing hangman_art.ipynb file \n",
    "\n",
    "print(hangman_art.logo)   #Printing hangman logo from hangman_art.ipynb\n",
    "chance=6                  #No chances given for the game\n",
    "\n",
    "word=random.choice(hangman_words.words)     #Randomly choosing word from hangman_words using random module\n",
    "display=[]     #Empty list\n",
    "\n",
    "for i in range(len(word)):  \n",
    "     display+='_'   #Appending '_' to display\n",
    "    \n",
    "while True:\n",
    "    guess=input(\"Guess a letter\").lower()   # User has to guess a Letter.\n",
    "\n",
    "    if guess in display:\n",
    "        print(f\"You've already guessed {guess}\")\n",
    "    for i in range(len(word)):  \n",
    "        if guess in word[i]:\n",
    "                display[i]=guess  #if letter is in word replace '_' with guess letter \n",
    "               \n",
    "\n",
    "    if guess not in word:\n",
    "        chance-=1         #If user predict wrong letter chances is decreased by 1.\n",
    "        print(\"You guessed a letter that is not in the word\")\n",
    "        print(hangman_art.hang[chance])     #Printing hangman art from hangman_art.ipynb\n",
    "        if chance==0:\n",
    "            print(\"You lose\")\n",
    "            break\n",
    "        \n",
    "    print(display)    \n",
    "    if '_' not in display: \n",
    "        print(\"You won\")\n",
    "        break\n"
   ]
  }
 ],
 "metadata": {
  "kernelspec": {
   "display_name": "Python 3 (ipykernel)",
   "language": "python",
   "name": "python3"
  },
  "language_info": {
   "codemirror_mode": {
    "name": "ipython",
    "version": 3
   },
   "file_extension": ".py",
   "mimetype": "text/x-python",
   "name": "python",
   "nbconvert_exporter": "python",
   "pygments_lexer": "ipython3",
   "version": "3.11.5"
  }
 },
 "nbformat": 4,
 "nbformat_minor": 5
}
