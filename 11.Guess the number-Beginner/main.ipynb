{
 "cells": [
  {
   "cell_type": "code",
   "execution_count": 1,
   "id": "48086e06-646d-4db6-919f-1b8ecc95ff49",
   "metadata": {},
   "outputs": [
    {
     "name": "stdout",
     "output_type": "stream",
     "text": [
      "importing Jupyter notebook from art.ipynb\n",
      "\n",
      "  / _ \\_   _  ___  ___ ___  /__   \\ |__   ___    /\\ \\ \\_   _ _ __ ___ | |__   ___ _ __ \n",
      " / /_\\/ | | |/ _ \\/ __/ __|   / /\\/ '_ \\ / _ \\  /  \\/ / | | | '_ ` _ \\| '_ \\ / _ \\ '__|\n",
      "/ /_\\| |_| |  __/\\__ \\__ \\  / /  | | | |  __/ / /\\  /| |_| | | | | | | |_) |  __/ |   \n",
      "\\____/ \\__,_|\\___||___/___/  \\/   |_| |_|\\___| \\_\\ \\/  \\__,_|_| |_| |_|_.__/ \\___|_|  \n",
      "\n",
      "Welcome to the number guessing name\n",
      "I'm thinking a number between 1 to 100\n"
     ]
    },
    {
     "name": "stdin",
     "output_type": "stream",
     "text": [
      "Choose a difficulty level,Type 'easy' or 'hard' hard\n",
      "Enter a number 56\n"
     ]
    },
    {
     "name": "stdout",
     "output_type": "stream",
     "text": [
      "Too high\n",
      "Guess again\n",
      "You have 4 attempts left\n"
     ]
    },
    {
     "name": "stdin",
     "output_type": "stream",
     "text": [
      "Enter a number 45\n"
     ]
    },
    {
     "name": "stdout",
     "output_type": "stream",
     "text": [
      "Too high\n",
      "Guess again\n",
      "You have 3 attempts left\n"
     ]
    },
    {
     "name": "stdin",
     "output_type": "stream",
     "text": [
      "Enter a number 20\n"
     ]
    },
    {
     "name": "stdout",
     "output_type": "stream",
     "text": [
      "Too high\n",
      "Guess again\n",
      "You have 2 attempts left\n"
     ]
    },
    {
     "name": "stdin",
     "output_type": "stream",
     "text": [
      "Enter a number 10\n"
     ]
    },
    {
     "name": "stdout",
     "output_type": "stream",
     "text": [
      "Too low\n",
      "Guess again\n",
      "You have 1 attempts left\n"
     ]
    },
    {
     "name": "stdin",
     "output_type": "stream",
     "text": [
      "Enter a number 12\n"
     ]
    },
    {
     "name": "stdout",
     "output_type": "stream",
     "text": [
      "Too low\n",
      "Guess again\n",
      "You have 0 attempts left\n",
      "You have run out of guess\n"
     ]
    }
   ],
   "source": [
    "import random      #importing random module\n",
    "import import_ipynb  #required to import ipynb file as module\n",
    "import art           #importing art.ipynb file \n",
    "print(art.logo)\n",
    "\n",
    "\n",
    "def ans(num,answer):    #Creating function 'ans'\n",
    "    if num>answer:\n",
    "        print(\"Too low\")\n",
    "        \n",
    "    elif num<answer:\n",
    "        print(\"Too high\")\n",
    "     \n",
    "    else:\n",
    "        print(\"You have predicted right answer\")\n",
    "        print(f\"The answer is {answer}\")\n",
    "        global flag\n",
    "        flag=True\n",
    "\n",
    "\n",
    "def check_difficulty():  \n",
    "    choice=input(\"Choose a difficulty level,Type 'easy' or 'hard'\")  #Taking input\n",
    "    if choice=='easy':\n",
    "        return EASY\n",
    "    else:\n",
    "        return DIFFICULT\n",
    "\n",
    "\n",
    "DIFFICULT=5\n",
    "EASY=10\n",
    "flag=False\n",
    "\n",
    "\n",
    "def game():\n",
    "    num=random.randint(1,100)                 #Selecting number randomly between 1 to 100 using random module\n",
    "    print(\"Welcome to the number guessing name\")\n",
    "    print(\"I'm thinking a number between 1 to 100\")\n",
    "    \n",
    "    turns=check_difficulty()     #Function Calling\n",
    "    \n",
    "    while turns:   #loop iterates according to the level of difficulty(Difficult:5,Easy:10)\n",
    "        Type=int(input('Enter a number'))  #Taking input as integer\n",
    "        ans(num,Type)       #Calling function 'ans'\n",
    "        if flag==True:\n",
    "            break\n",
    "        print(\"Guess again\")\n",
    "        print(f\"You have {turns-1} attempts left\")\n",
    "        turns-=1\n",
    "        if turns==0:\n",
    "            print(\"You have run out of guess\")\n",
    "\n",
    "\n",
    "game()      #Calling function 'game'\n",
    "        \n",
    "\n",
    "    "
   ]
  }
 ],
 "metadata": {
  "kernelspec": {
   "display_name": "Python 3 (ipykernel)",
   "language": "python",
   "name": "python3"
  },
  "language_info": {
   "codemirror_mode": {
    "name": "ipython",
    "version": 3
   },
   "file_extension": ".py",
   "mimetype": "text/x-python",
   "name": "python",
   "nbconvert_exporter": "python",
   "pygments_lexer": "ipython3",
   "version": "3.10.10"
  }
 },
 "nbformat": 4,
 "nbformat_minor": 5
}
