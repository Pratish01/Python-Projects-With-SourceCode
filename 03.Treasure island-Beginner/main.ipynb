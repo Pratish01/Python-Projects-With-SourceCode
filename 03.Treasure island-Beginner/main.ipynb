{
 "cells": [
  {
   "cell_type": "code",
   "execution_count": 1,
   "id": "c3bdbeca-5442-4cca-ae0c-863b68babbb2",
   "metadata": {},
   "outputs": [
    {
     "name": "stdout",
     "output_type": "stream",
     "text": [
      "*******************************************************************************\n",
      "          |                   |                  |                     |\n",
      " _________|________________.=\"\"_;=.______________|_____________________|_______\n",
      "|                   |  ,-\"_,=\"\"     `\"=.|                  |\n",
      "|___________________|__\"=._o`\"-._        `\"=.______________|___________________\n",
      "          |                `\"=._o`\"=._      _`\"=._                     |\n",
      " _________|_____________________:=._o \"=._.\"_.-=\"'\"=.__________________|_______\n",
      "|                   |    __.--\" , ; `\"=._o.\" ,-\"\"\"-._ \".   |\n",
      "|___________________|_._\"  ,. .` ` `` ,  `\"-._\"-._   \". '__|___________________\n",
      "          |           |o`\"=._` , \"` `; .\". ,  \"-._\"-._; ;              |\n",
      " _________|___________| ;`-.o`\"=._; .\" ` '`.\"\\` . \"-._ /_______________|_______\n",
      "|                   | |o;    `\"-.o`\"=._``  '` \" ,__.--o;   |\n",
      "|___________________|_| ;     (#) `-.o `\"=.`_.--\"_o.-; ;___|___________________\n",
      "____/______/______/___|o;._    \"      `\".o|o_.--\"    ;o;____/______/______/____\n",
      "/______/______/______/_\"=._o--._        ; | ;        ; ;/______/______/______/_\n",
      "____/______/______/______/__\"=._o--._   ;o|o;     _._;o;____/______/______/____\n",
      "/______/______/______/______/____\"=._o._; | ;_.--\"o.--\"_/______/______/______/_\n",
      "____/______/______/______/______/_____\"=.o|o_.--\"\"___/______/______/______/____\n",
      "/______/______/______/______/______/______/______/______/______/______/[TomekK]\n",
      "*******************************************************************************\n",
      "Welcome to Treasure Island.\n",
      "Your mission is to find the treasure\n"
     ]
    },
    {
     "name": "stdin",
     "output_type": "stream",
     "text": [
      "You're at a crossroad,where do you want to go? Type left or right:  left\n",
      "You're came to a lake.There is an island in the middle of the lake. Type 'Wait' to wait for a boat or Type swim to swim across:  wait\n",
      "You have arrived island unharmed there are three door one blue,one red,one yellow Which door you wanna choose Blue,Red, or Yellow:  yellow\n"
     ]
    },
    {
     "name": "stdout",
     "output_type": "stream",
     "text": [
      "You win\n"
     ]
    }
   ],
   "source": [
    "print('''*******************************************************************************\n",
    "          |                   |                  |                     |\n",
    " _________|________________.=\"\"_;=.______________|_____________________|_______\n",
    "|                   |  ,-\"_,=\"\"     `\"=.|                  |\n",
    "|___________________|__\"=._o`\"-._        `\"=.______________|___________________\n",
    "          |                `\"=._o`\"=._      _`\"=._                     |\n",
    " _________|_____________________:=._o \"=._.\"_.-=\"'\"=.__________________|_______\n",
    "|                   |    __.--\" , ; `\"=._o.\" ,-\"\"\"-._ \".   |\n",
    "|___________________|_._\"  ,. .` ` `` ,  `\"-._\"-._   \". '__|___________________\n",
    "          |           |o`\"=._` , \"` `; .\". ,  \"-._\"-._; ;              |\n",
    " _________|___________| ;`-.o`\"=._; .\" ` '`.\"\\` . \"-._ /_______________|_______\n",
    "|                   | |o;    `\"-.o`\"=._``  '` \" ,__.--o;   |\n",
    "|___________________|_| ;     (#) `-.o `\"=.`_.--\"_o.-; ;___|___________________\n",
    "____/______/______/___|o;._    \"      `\".o|o_.--\"    ;o;____/______/______/____\n",
    "/______/______/______/_\"=._o--._        ; | ;        ; ;/______/______/______/_\n",
    "____/______/______/______/__\"=._o--._   ;o|o;     _._;o;____/______/______/____\n",
    "/______/______/______/______/____\"=._o._; | ;_.--\"o.--\"_/______/______/______/_\n",
    "____/______/______/______/______/_____\"=.o|o_.--\"\"___/______/______/______/____\n",
    "/______/______/______/______/______/______/______/______/______/______/[TomekK]\n",
    "*******************************************************************************''')\n",
    "\n",
    "print(\"Welcome to Treasure Island.\\nYour mission is to find the treasure\")\n",
    "\n",
    "#Taking input from the user  what they wanna do.\n",
    "choice= input(\"You're at a crossroad,where do you want to go? Type left or right: \").lower()\n",
    "\n",
    "\n",
    "if choice==\"left\":\n",
    "    #Taking input from the user what they wanna do next.\n",
    "    decision_1=input(\"You're came to a lake.There is an island in the middle of the lake. Type 'Wait' to wait for a boat\\\n",
    " or Type swim to swim across: \").lower()\n",
    "    \n",
    "    #Making decision based on input.\n",
    "    if decision_1==\"wait\":\n",
    "        decision_2=input(\"You have arrived island unharmed there are three door one blue,one red,one yellow\\\n",
    " Which door you wanna choose Blue,Red, or Yellow: \").lower() #Taking input from user what they wanna do next.\n",
    "        \n",
    "        #Making decision based on input\n",
    "        if decision_2==\"red\" or decision_2==\"blue\":\n",
    "            print(\"Eaten by a beast,Game over\")\n",
    "        else:\n",
    "            print(\"You win\")\n",
    "    else:\n",
    "        print(\"Game over\")\n",
    "\n",
    "\n",
    "else:\n",
    "    print(\"You fell into a hole,Game over\")"
   ]
  }
 ],
 "metadata": {
  "kernelspec": {
   "display_name": "Python 3 (ipykernel)",
   "language": "python",
   "name": "python3"
  },
  "language_info": {
   "codemirror_mode": {
    "name": "ipython",
    "version": 3
   },
   "file_extension": ".py",
   "mimetype": "text/x-python",
   "name": "python",
   "nbconvert_exporter": "python",
   "pygments_lexer": "ipython3",
   "version": "3.10.10"
  }
 },
 "nbformat": 4,
 "nbformat_minor": 5
}
