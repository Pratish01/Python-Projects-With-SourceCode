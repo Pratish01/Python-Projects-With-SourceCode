{
 "cells": [
  {
   "cell_type": "code",
   "execution_count": 1,
   "id": "edd45bfe-e9d1-4dae-bb80-bcd9310a67a5",
   "metadata": {},
   "outputs": [
    {
     "name": "stdout",
     "output_type": "stream",
     "text": [
      "\n"
     ]
    },
    {
     "name": "stdin",
     "output_type": "stream",
     "text": [
      "Enter the name Yuvraj\n",
      "Enter the bid $ 200\n",
      "Is there any bidder left,Type 'yes' or 'no' no\n"
     ]
    },
    {
     "name": "stdout",
     "output_type": "stream",
     "text": [
      "The winner is Yuvraj with a bid of 200\n"
     ]
    }
   ],
   "source": [
    "from IPython.display import clear_output    \n",
    "import import_ipynb    #Module required to import ipynb file as module\n",
    "import art             #Import art.ipynb as module\n",
    "print(art.logo)\n",
    "bidding={}\n",
    "while True:\n",
    "    Name=input(\"Enter the name\")            #Name of the bidder\n",
    "    Bid=int(input(\"Enter the bid $\"))       #Amount of the bid\n",
    "    l1=[]                                   #Empty list\n",
    "    \n",
    "    bidding[Name]=Bid                       #Adding key value pair to bidding\n",
    "    \n",
    "    choice=input(\"Is there any bidder left,Type 'yes' or 'no'\").lower()  \n",
    "\n",
    "    def highest_bidder(bidders):   \n",
    "        highest_bid=0           \n",
    "        winner=''\n",
    "        for bidder in bidding:\n",
    "            bid_amount=bidding[bidder]\n",
    "            if bid_amount>highest_bid:\n",
    "                highest_bid=bid_amount\n",
    "                winner=bidder\n",
    "        print(f\"The winner is {winner} with a bid of {highest_bid}\")\n",
    "\n",
    "    if choice==\"yes\":\n",
    "        clear_output(wait=True)       #Used to clear screen\n",
    "        print()\n",
    "        \n",
    "    else:\n",
    "        highest_bidder(bidding)\n",
    "        break\n",
    "        "
   ]
  }
 ],
 "metadata": {
  "kernelspec": {
   "display_name": "Python 3 (ipykernel)",
   "language": "python",
   "name": "python3"
  },
  "language_info": {
   "codemirror_mode": {
    "name": "ipython",
    "version": 3
   },
   "file_extension": ".py",
   "mimetype": "text/x-python",
   "name": "python",
   "nbconvert_exporter": "python",
   "pygments_lexer": "ipython3",
   "version": "3.10.10"
  }
 },
 "nbformat": 4,
 "nbformat_minor": 5
}
