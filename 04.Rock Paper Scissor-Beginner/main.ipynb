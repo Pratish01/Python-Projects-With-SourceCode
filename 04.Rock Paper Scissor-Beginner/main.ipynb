{
 "cells": [
  {
   "cell_type": "code",
   "execution_count": 1,
   "id": "d8fb15fb-40c2-46b9-85f5-373ba53dc432",
   "metadata": {},
   "outputs": [
    {
     "name": "stdin",
     "output_type": "stream",
     "text": [
      "What do you choose? Type 0 for rock,Type 1 for paper,Type 2 for scissor  0\n"
     ]
    },
    {
     "name": "stdout",
     "output_type": "stream",
     "text": [
      "Your choice is:0\n",
      "\n",
      "    _______\n",
      "---'   ____)  \n",
      "      (_____)  \n",
      "      (_____)  \n",
      "      (____)\n",
      "---.__(___) \n",
      "\n",
      "Computer choice is:2\n",
      "    \n",
      "    _______\n",
      "---'   ____)____\n",
      "          ______)\n",
      "       __________)\n",
      "      (____)\n",
      "---.__(___)\n",
      "\n",
      "You won\n"
     ]
    }
   ],
   "source": [
    "scissor='''    \n",
    "    _______\n",
    "---'   ____)____\n",
    "          ______)\n",
    "       __________)\n",
    "      (____)\n",
    "---.__(___)\n",
    "'''\n",
    "\n",
    "rock='''\n",
    "    _______\n",
    "---'   ____)  \n",
    "      (_____)  \n",
    "      (_____)  \n",
    "      (____)\n",
    "---.__(___) \n",
    "'''\n",
    "paper='''\n",
    "    _______\n",
    "---'   ____)____  \n",
    "          ______)  \n",
    "          _______)  \n",
    "         _______)\n",
    "---.__________)  \n",
    "'''\n",
    "#Taking input from user.\n",
    "choice=int(input(\"What do you choose? Type 0 for rock,Type 1 for paper,Type 2 for scissor \"))\n",
    "print(f\"Your choice is:{choice}\")\n",
    "if choice>2:\n",
    "    print(\"Invalid input.You Lose\")\n",
    "else:\n",
    "    if choice==0:\n",
    "        print(rock)\n",
    "    elif choice==1:\n",
    "        print(paper)\n",
    "    else:\n",
    "        print(scissor)\n",
    "    import random          #importing random module\n",
    "    list1=[rock,paper,scissor]\n",
    "    list2=len(list1)\n",
    "    ran=random.randint(0,list2-1)\n",
    "    print(f\"Computer choice is:{ran}\")\n",
    "    print(list1[ran])\n",
    "    \n",
    "    if ran==choice:\n",
    "        print(\"draw\")\n",
    "    elif ran==2 and choice==1:\n",
    "        print(\"Computer won\")\n",
    "    elif ran==1 and choice==0:\n",
    "        print(\"Computer won\")\n",
    "    elif ran==0 and choice==2:\n",
    "        print(\"Computer won\")\n",
    "    \n",
    "    else:\n",
    "        print(\"You won\")\n",
    "        \n",
    "\n",
    "\n",
    "\n"
   ]
  }
 ],
 "metadata": {
  "kernelspec": {
   "display_name": "Python 3 (ipykernel)",
   "language": "python",
   "name": "python3"
  },
  "language_info": {
   "codemirror_mode": {
    "name": "ipython",
    "version": 3
   },
   "file_extension": ".py",
   "mimetype": "text/x-python",
   "name": "python",
   "nbconvert_exporter": "python",
   "pygments_lexer": "ipython3",
   "version": "3.10.10"
  }
 },
 "nbformat": 4,
 "nbformat_minor": 5
}
