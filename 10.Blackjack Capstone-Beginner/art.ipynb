{
 "cells": [
  {
   "cell_type": "code",
   "execution_count": 1,
   "id": "941713fb-922a-4e76-9b7e-979ae95ba21f",
   "metadata": {},
   "outputs": [],
   "source": [
    "logo = \"\"\"\n",
    ".------.            _     _            _    _            _    \n",
    "|A_  _ |.          | |   | |          | |  (_)          | |   \n",
    "|( \\/ ).-----.     | |__ | | __ _  ___| | ___  __ _  ___| | __\n",
    "| \\  /|K /\\  |     | '_ \\| |/ _` |/ __| |/ / |/ _` |/ __| |/ /\n",
    "|  \\/ | /  \\ |     | |_) | | (_| | (__|   <| | (_| | (__|   < \n",
    "`-----| \\  / |     |_.__/|_|\\__,_|\\___|_|\\_\\ |\\__,_|\\___|_|\\_\\\\\n",
    "      |  \\/ K|                            _/ |                \n",
    "      `------'                           |__/           \n",
    "\"\"\"\n",
    "                   \n",
    "\n",
    "                          "
   ]
  },
  {
   "cell_type": "code",
   "execution_count": null,
   "id": "0e887256-becd-4505-aaf8-f30753f31e18",
   "metadata": {},
   "outputs": [],
   "source": []
  }
 ],
 "metadata": {
  "kernelspec": {
   "display_name": "Python 3 (ipykernel)",
   "language": "python",
   "name": "python3"
  },
  "language_info": {
   "codemirror_mode": {
    "name": "ipython",
    "version": 3
   },
   "file_extension": ".py",
   "mimetype": "text/x-python",
   "name": "python",
   "nbconvert_exporter": "python",
   "pygments_lexer": "ipython3",
   "version": "3.11.5"
  }
 },
 "nbformat": 4,
 "nbformat_minor": 5
}
