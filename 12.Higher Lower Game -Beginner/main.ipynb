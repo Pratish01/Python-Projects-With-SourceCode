{
 "cells": [
  {
   "cell_type": "code",
   "execution_count": 1,
   "id": "49780cf1-7470-4169-ab40-3cf45be4f400",
   "metadata": {},
   "outputs": [
    {
     "name": "stdout",
     "output_type": "stream",
     "text": [
      "Sorry you are wrong😭.Final Score 3\n"
     ]
    }
   ],
   "source": [
    "import import_ipynb    #required to import ipynb file as module\n",
    "from game_data import *   #importing game_data.ipynb\n",
    "import art                #importing art.ipynb\n",
    "import random             \n",
    "from IPython.display import clear_output   \n",
    "\n",
    "\n",
    "def check(choice,select1,select2):\n",
    "    if select1>select2:\n",
    "        return choice=='A'  #if choice is equal to 'A' it returns True\n",
    "    else:\n",
    "        return choice==\"B\"   #if choice is equal to 'B' it returns True\n",
    "        \n",
    "\n",
    "def game():          #Game function \n",
    "    c=0\n",
    "    select2=random.choice(data)     #randomly choosing data(gamedata.data) using random module\n",
    "    while True:\n",
    "        print(art.logo)\n",
    "        select1=select2             #Copying select2 to select1\n",
    "      \n",
    "        select2=random.choice(data)    #randomly choosing data(gamedata.data) using random module    \n",
    "        if select1==select2:\n",
    "            select2=random.choice(data)\n",
    "            \n",
    "        print(f\"Compare A: {select1['name']},a {select1['description']},from {select1['country']}\")\n",
    "        print(art.vs)\n",
    "        print(f\"Against B: {select2['name']},a {select2['description']},from {select2['country']}\")\n",
    "        \n",
    "\n",
    "        choice=input(\"Who has more followers?Type 'A' or 'B'\").upper()\n",
    "        is_correct=check(choice,select1['follower_count'],select2['follower_count'])  #Calling check function\n",
    "        clear_output(wait=True)  #Used to clear output\n",
    "    \n",
    "        if is_correct:\n",
    "            c+=1\n",
    "            print(f\"You are right!.Current score {c}\") \n",
    "        else:\n",
    "            print(f\"Sorry you are wrong😭.Final Score {c}\")\n",
    "            break\n",
    "       \n",
    "        \n",
    "game()   #Calling game function\n",
    "    "
   ]
  }
 ],
 "metadata": {
  "kernelspec": {
   "display_name": "Python 3 (ipykernel)",
   "language": "python",
   "name": "python3"
  },
  "language_info": {
   "codemirror_mode": {
    "name": "ipython",
    "version": 3
   },
   "file_extension": ".py",
   "mimetype": "text/x-python",
   "name": "python",
   "nbconvert_exporter": "python",
   "pygments_lexer": "ipython3",
   "version": "3.10.10"
  }
 },
 "nbformat": 4,
 "nbformat_minor": 5
}
