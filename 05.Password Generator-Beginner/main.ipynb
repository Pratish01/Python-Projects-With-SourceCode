{
 "cells": [
  {
   "cell_type": "code",
   "execution_count": 1,
   "id": "11f91cbd-7cad-4312-ade4-d5b73e3e986c",
   "metadata": {},
   "outputs": [
    {
     "name": "stdout",
     "output_type": "stream",
     "text": [
      "Welcome to the password generator\n"
     ]
    },
    {
     "name": "stdin",
     "output_type": "stream",
     "text": [
      "How many letters would you like in your password?  5\n",
      "How many symbols would you like in your password?  2\n",
      "How many numbers would you like in your password?  3\n"
     ]
    },
    {
     "name": "stdout",
     "output_type": "stream",
     "text": [
      "The Password is:otm38x0@#o\n"
     ]
    }
   ],
   "source": [
    "import random\n",
    "print(\"Welcome to the password generator\")\n",
    "letters=['a', 'b', 'c', 'd', 'e', 'f', 'g', 'h', 'i', 'j', 'k', \n",
    "          'l', 'm', 'n', 'o', 'p', 'q', 'r', 's', 't', 'u', 'v', 'w', 'x', 'y', 'z']   #List of letters\n",
    "number=['0','1','2','3','4','5','6','7','8','9']    #List of numbers\n",
    "characters=['!','@','#','$','%','^','&','*','(',')','-','+']  #List of characters\n",
    "\n",
    "letter=int(input(\"How many letters would you like in your password? \"))  #Take number of letters needed for password\n",
    "symbol=int(input(\"How many symbols would you like in your password? \"))  #Take number of symbols needed for password\n",
    "num=int(input(\"How many numbers would you like in your password? \"))     #Take number range required for password\n",
    "password=[]     #Empty list\n",
    "\n",
    "for i in range(1,letter+1):       \n",
    "    password.append(random.choice(letters))   #Appending letters to password.\n",
    "for j in range(1,symbol+1):\n",
    "        password.append(random.choice(characters))   #Appending symbols to password.\n",
    "for k in range(1,num+1):\n",
    "        password.append(random.choice(number))       #Appending numbers to password.\n",
    "\n",
    "random.shuffle(password)       #Shuffling password list\n",
    "print(f\"The Password is:{''.join(password)}\")  #Joining elements of list\n"
   ]
  }
 ],
 "metadata": {
  "kernelspec": {
   "display_name": "Python 3 (ipykernel)",
   "language": "python",
   "name": "python3"
  },
  "language_info": {
   "codemirror_mode": {
    "name": "ipython",
    "version": 3
   },
   "file_extension": ".py",
   "mimetype": "text/x-python",
   "name": "python",
   "nbconvert_exporter": "python",
   "pygments_lexer": "ipython3",
   "version": "3.10.10"
  }
 },
 "nbformat": 4,
 "nbformat_minor": 5
}
